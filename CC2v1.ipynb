{
 "cells": [
  {
   "cell_type": "code",
   "execution_count": null,
   "metadata": {},
   "outputs": [],
   "source": [
    "import sqlite3\n",
    "import numpy as np\n",
    "import pandas as pd\n",
    "from sqlite3 import Error\n",
    "import math\n",
    "import blpapi\n",
    "import pdblp\n",
    "from datetime import date\n",
    "\n",
    "DB = PySQLite(\"test1228v1.db\")\n",
    "\n",
    "class CorporateCredit():    \n",
    "    def __init__(self,name):     \n",
    "        self.name = name\n",
    "    \n",
    "    def FCF(self,qtrs):\n",
    "        FCF = ['Revenue','Variable Costs','Fixed Costs','EBITDA', 'Less: Capex', 'Less: Working Cap', 'Less: Taxes', 'FCF', 'Beginning Cash', 'Ending Cash']\n",
    "\n",
    "        revArray = np.array([self.CurrentFCF['rev']*(1+self.CurrentFCF['rev_g'])**i for i in range(qtrs+1)],dtype=int)\n",
    "        vcostsArray = np.array([self.CurrentFCF['var_costs']*(1+self.CurrentFCF['rev_g'])**i for i in range(qtrs+1)],dtype=int)\n",
    "        fcostsArray = np.full(shape=qtrs+1,fill_value=self.CurrentFCF['f_costs'],dtype=int)\n",
    "        ebitdaArray = revArray+vcostsArray+fcostsArray\n",
    "        capexArray = revArray * self.CurrentFCF['capex/rev']\n",
    "        wcArray = revArray * self.CurrentFCF['WC/rev']\n",
    "        taxArray = ebitdaArray * self.CurrentFCF['tax']  #to fix --> need interest exp\n",
    "        fcfArray = ebitdaArray + capexArray + wcArray + taxArray # need interest expense\n",
    "\n",
    "        begCashArray = np.zeros(qtrs+1,dtype=int)\n",
    "        begCashArray[0] = self.CurrentFCF['cash']\n",
    "        endCashArray = np.zeros(qtrs+1,dtype=int)\n",
    "        endCashArray[0] = fcfArray[0]+begCashArray[0]\n",
    "\n",
    "\n",
    "        for i in range(1,qtrs+1):\n",
    "          begCashArray[i] = endCashArray[i-1]\n",
    "          endCashArray[i] = begCashArray[i] + fcfArray[i]\n",
    "\n",
    "\n",
    "        FCF_statement=[revArray,vcostsArray,fcostsArray,ebitdaArray,capexArray,wcArray,taxArray,fcfArray,begCashArray,endCashArray]\n",
    "        FCF_df=pd.DataFrame(FCF_statement,columns = self.makeDateColumn(qtrs), index = FCF, dtype=int)\n",
    "\n",
    "          # print(ebitdaArray)\n",
    "          # print(begCashArray)\n",
    "          # print(endCashArray)\n",
    "\n",
    "\n",
    "        return FCF_df\n",
    "        \n",
    "\n",
    "def main():\n",
    "    ETP=CorporateCredit('ETP')\n",
    "    \n",
    "\n",
    "    \n",
    "main()\n",
    "     "
   ]
  }
 ],
 "metadata": {
  "kernelspec": {
   "display_name": "Python 3",
   "language": "python",
   "name": "python3"
  },
  "language_info": {
   "codemirror_mode": {
    "name": "ipython",
    "version": 3
   },
   "file_extension": ".py",
   "mimetype": "text/x-python",
   "name": "python",
   "nbconvert_exporter": "python",
   "pygments_lexer": "ipython3",
   "version": "3.7.3"
  }
 },
 "nbformat": 4,
 "nbformat_minor": 2
}
